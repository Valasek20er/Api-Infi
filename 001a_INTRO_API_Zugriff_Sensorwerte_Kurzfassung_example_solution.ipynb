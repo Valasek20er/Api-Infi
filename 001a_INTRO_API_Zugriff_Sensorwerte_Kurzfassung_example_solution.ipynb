{
 "cells": [
  {
   "attachments": {},
   "cell_type": "markdown",
   "id": "ae08eaf4",
   "metadata": {},
   "source": [
    "# A) API Zugriff im lokalen Netzwerk "
   ]
  },
  {
   "attachments": {},
   "cell_type": "markdown",
   "id": "037d168f",
   "metadata": {
    "tags": []
   },
   "source": [
    "# Das sind die Inhalte:\n",
    "## Sensor- Werte auslesen und speichern\n",
    "1. request an das REST API senden und \"return-object\" analysieren\n",
    "2. dictionary mit json.loads aus dem \"return-object\" erzeugen\n",
    "3. dekodierte Sensor - Messwerte mit \"print\" ausgeben\n",
    "4. Messwerte als .json file ablegen\n",
    "5. Messwerte fortlaufend in einem .db file mitschreiben\n",
    "\n",
    "### ->Arbeitsaufgabe 1 \"Sensor - Werte speichern\"\n",
    "\n",
    "*Ersetze die \"dummy-Werte\" durch echte Sensordaten. \n",
    "Speichere die Werte für Luftfeuchtigkeit, Temperatur und Helligkeit:*\n",
    "1. initialisiere ein neues .git repository und lege das \"source\" - file darin ab\n",
    "2. speichere die Sensor - Werte in einem .json File \"a_nachname_sensorwerte.json\"\n",
    "3. speichere die Sensor - Werte in einer sqlite Datenbank \"a_nachname_sendorwerte.db\"\n",
    "4. füge das .json und .db file deinem git repository hinzu und führe ein commit durch. \"-m \"Arbeitsaufgabe Teil 1 Nachname\"\n",
    "\n",
    "\n",
    "Das Abfrageintervall ist eine Minute. Die Dauer der Aufzeichnung ist vor dem Start der Aufzeichnung\n",
    "individuell mit dem Lehrer zu vereinbaren.\n",
    "\n",
    "\n",
    "\n",
    " "
   ]
  },
  {
   "attachments": {},
   "cell_type": "markdown",
   "id": "fd9b6db7",
   "metadata": {},
   "source": [
    "### A1) request an das REST API senden und \"return-object\" analysieren"
   ]
  },
  {
   "cell_type": "code",
   "execution_count": null,
   "id": "6bd485bd",
   "metadata": {},
   "outputs": [],
   "source": [
    "import requests\n",
    "import json\n",
    "import time\n",
    "#Die Authentifizierung wird im lokalen Netzwerk noch nicht benötigt, aber im nächsten Schritt\n",
    "#from requests.auth import HTTPBasicAuth\n"
   ]
  },
  {
   "cell_type": "code",
   "execution_count": 2,
   "id": "befcdd8c",
   "metadata": {},
   "outputs": [],
   "source": [
    "my_hum_url = 'http://openhabian:8080/rest/items/ZWave_Node_003_Sensor_relative_humidity'\n",
    "my_temp_url = 'http://openhabian:8080/rest/items/ZWave_Node_003_Sensor_temperature'\n",
    "\n",
    "#my_hum_url='http://192.168.68.112:8080/rest/items/ZWaveNode019WohnzimmerZW100Multisensor6_Sensorrelativehumidity'\n",
    "#my_temp_url='http://192.168.68.112:8080/rest/items/ZWaveNode019WohnzimmerZW100Multisensor6_Sensortemperature'\n",
    " "
   ]
  },
  {
   "cell_type": "code",
   "execution_count": 3,
   "id": "e1d31142",
   "metadata": {},
   "outputs": [],
   "source": [
    "hum_value=requests.get(my_hum_url)\n",
    "temp_value=requests.get(my_temp_url)\n",
    "# Das JSON-Objekt wird über die Ausgabe der Requests-Objekt übergeben"
   ]
  },
  {
   "cell_type": "code",
   "execution_count": 4,
   "id": "4bc78439",
   "metadata": {},
   "outputs": [
    {
     "name": "stdout",
     "output_type": "stream",
     "text": [
      "b'{\"link\":\"http://192.168.1.101:8080/rest/items/ZWave_Node_005_Sensor_relative_humidity\",\"state\":\"53\",\"stateDescription\":{\"pattern\":\"%.1f\",\"readOnly\":true,\"options\":[]},\"editable\":true,\"type\":\"Number\",\"name\":\"ZWave_Node_005_Sensor_relative_humidity\",\"label\":\"Sensor (relative humidity)\",\"category\":\"Humidity\",\"tags\":[\"Point\"],\"groupNames\":[]}'\n",
      "b'{\"link\":\"http://192.168.1.101:8080/rest/items/ZWave_Node_005_Sensor_temperature\",\"state\":\"25.4 \\xc2\\xb0C\",\"stateDescription\":{\"pattern\":\"%.1f %unit%\",\"readOnly\":true,\"options\":[]},\"editable\":true,\"type\":\"Number:Temperature\",\"name\":\"ZWave_Node_005_Sensor_temperature\",\"label\":\"Sensor (temperature)\",\"category\":\"Temperature\",\"tags\":[\"Point\"],\"groupNames\":[]}'\n"
     ]
    }
   ],
   "source": [
    "print(hum_value.content)\n",
    "print(temp_value.content)"
   ]
  },
  {
   "cell_type": "code",
   "execution_count": 7,
   "id": "bc5002b4",
   "metadata": {},
   "outputs": [
    {
     "name": "stdout",
     "output_type": "stream",
     "text": [
      "25.4\n",
      "<class 'float'>\n"
     ]
    }
   ],
   "source": [
    "#TESTSTRING - AUSGEBEN\n",
    "temp_dict=json.loads(temp_value.content)\n",
    "act_temp = temp_dict['state']\n",
    "act_temp = float(act_temp[:-2])\n",
    "print(act_temp)\n",
    "print(type(act_temp))"
   ]
  },
  {
   "attachments": {},
   "cell_type": "markdown",
   "id": "69424d05",
   "metadata": {},
   "source": [
    "### A2) dictionary mit json.loads aus dem \"return-object\" erzeugen"
   ]
  },
  {
   "cell_type": "code",
   "execution_count": 8,
   "id": "9c33ffa5",
   "metadata": {},
   "outputs": [
    {
     "name": "stdout",
     "output_type": "stream",
     "text": [
      "a_sensor_values.db\n",
      "INSERT INTO sensor_values VALUES (1686057281, 25.6, 52)\n",
      "INSERT INTO sensor_values VALUES (1686057341, 25.6, 52)\n",
      "INSERT INTO sensor_values VALUES (1686057402, 25.6, 52)\n",
      "INSERT INTO sensor_values VALUES (1686057462, 25.6, 52)\n",
      "INSERT INTO sensor_values VALUES (1686057522, 25.7, 52)\n",
      "INSERT INTO sensor_values VALUES (1686057582, 25.7, 52)\n",
      "INSERT INTO sensor_values VALUES (1686057638, 25.7, 52)\n",
      "INSERT INTO sensor_values VALUES (1686057698, 25.6, 51)\n",
      "INSERT INTO sensor_values VALUES (1686057758, 25.3, 51)\n",
      "INSERT INTO sensor_values VALUES (1686057818, 25.0, 52)\n",
      "INSERT INTO sensor_values VALUES (1686057879, 24.8, 52)\n",
      "INSERT INTO sensor_values VALUES (1686057939, 24.6, 52)\n",
      "INSERT INTO sensor_values VALUES (1686058000, 24.4, 53)\n",
      "INSERT INTO sensor_values VALUES (1686058060, 24.2, 53)\n",
      "INSERT INTO sensor_values VALUES (1686058120, 24.0, 54)\n"
     ]
    }
   ],
   "source": [
    "import sqlite3\n",
    "import time\n",
    "#cnx = sqlite3.connect(':memory:') alternative in memory database\n",
    "sqlite_db = 'a_sensor_values.db' # String for creating DB in specified directory\n",
    "print(sqlite_db)\n",
    "\n",
    "conn=sqlite3.connect(sqlite_db) # Creates sqlite Database - check in your file explorer\n",
    "cur=conn.cursor()\n",
    "cur.execute('''DROP TABLE IF EXISTS sensor_values''')\n",
    "cur.execute('''CREATE TABLE sensor_values(timestamp NUMERIC,temperature NUMERIC, humidity NUMERIC);''') # Create table with specified name and columns/attributes\n",
    "# \n",
    "\n",
    "for my_counter in range(15):\n",
    "    time.sleep(60)\n",
    "    my_timestamp = round(time.time())\n",
    "    hum_value=requests.get(my_hum_url)\n",
    "    temp_value=requests.get(my_temp_url)\n",
    "    hum_dict=json.loads(hum_value.content)\n",
    "    act_hum = hum_dict['state']\n",
    "    temp_dict=json.loads(temp_value.content)\n",
    "    act_temp = temp_dict['state']\n",
    "    act_temp = float(act_temp[:-2]) \n",
    "     # The temperature value is stored without the \"C\" in the end.\n",
    "     # The temperature value is in degrees centi-degrees.\n",
    "\n",
    "    \n",
    "# CREATE INSERT STATEMENT\n",
    "    execution_string = f\"INSERT INTO sensor_values VALUES ({my_timestamp}, {act_temp}, {act_hum})\"\n",
    "    print(execution_string)\n",
    "    cur.execute(execution_string)\n",
    "    conn.commit()"
   ]
  },
  {
   "cell_type": "code",
   "execution_count": 6,
   "id": "15a5fe34",
   "metadata": {},
   "outputs": [
    {
     "data": {
      "text/html": [
       "<div>\n",
       "<style scoped>\n",
       "    .dataframe tbody tr th:only-of-type {\n",
       "        vertical-align: middle;\n",
       "    }\n",
       "\n",
       "    .dataframe tbody tr th {\n",
       "        vertical-align: top;\n",
       "    }\n",
       "\n",
       "    .dataframe thead th {\n",
       "        text-align: right;\n",
       "    }\n",
       "</style>\n",
       "<table border=\"1\" class=\"dataframe\">\n",
       "  <thead>\n",
       "    <tr style=\"text-align: right;\">\n",
       "      <th></th>\n",
       "      <th>timestamp</th>\n",
       "      <th>temperature</th>\n",
       "      <th>humidity</th>\n",
       "      <th>brightness</th>\n",
       "    </tr>\n",
       "  </thead>\n",
       "  <tbody>\n",
       "    <tr>\n",
       "      <th>0</th>\n",
       "      <td>1673132387</td>\n",
       "      <td>45</td>\n",
       "      <td>45</td>\n",
       "      <td>45</td>\n",
       "    </tr>\n",
       "    <tr>\n",
       "      <th>1</th>\n",
       "      <td>1673132388</td>\n",
       "      <td>45</td>\n",
       "      <td>45</td>\n",
       "      <td>45</td>\n",
       "    </tr>\n",
       "    <tr>\n",
       "      <th>2</th>\n",
       "      <td>1673132389</td>\n",
       "      <td>45</td>\n",
       "      <td>45</td>\n",
       "      <td>45</td>\n",
       "    </tr>\n",
       "    <tr>\n",
       "      <th>3</th>\n",
       "      <td>1673132390</td>\n",
       "      <td>45</td>\n",
       "      <td>45</td>\n",
       "      <td>45</td>\n",
       "    </tr>\n",
       "    <tr>\n",
       "      <th>4</th>\n",
       "      <td>1673132391</td>\n",
       "      <td>45</td>\n",
       "      <td>45</td>\n",
       "      <td>45</td>\n",
       "    </tr>\n",
       "    <tr>\n",
       "      <th>5</th>\n",
       "      <td>1673132392</td>\n",
       "      <td>45</td>\n",
       "      <td>45</td>\n",
       "      <td>45</td>\n",
       "    </tr>\n",
       "    <tr>\n",
       "      <th>6</th>\n",
       "      <td>1673132393</td>\n",
       "      <td>45</td>\n",
       "      <td>45</td>\n",
       "      <td>45</td>\n",
       "    </tr>\n",
       "    <tr>\n",
       "      <th>7</th>\n",
       "      <td>1673132394</td>\n",
       "      <td>45</td>\n",
       "      <td>45</td>\n",
       "      <td>45</td>\n",
       "    </tr>\n",
       "    <tr>\n",
       "      <th>8</th>\n",
       "      <td>1673132395</td>\n",
       "      <td>45</td>\n",
       "      <td>45</td>\n",
       "      <td>45</td>\n",
       "    </tr>\n",
       "    <tr>\n",
       "      <th>9</th>\n",
       "      <td>1673132396</td>\n",
       "      <td>45</td>\n",
       "      <td>45</td>\n",
       "      <td>45</td>\n",
       "    </tr>\n",
       "  </tbody>\n",
       "</table>\n",
       "</div>"
      ],
      "text/plain": [
       "    timestamp  temperature  humidity  brightness\n",
       "0  1673132387           45        45          45\n",
       "1  1673132388           45        45          45\n",
       "2  1673132389           45        45          45\n",
       "3  1673132390           45        45          45\n",
       "4  1673132391           45        45          45\n",
       "5  1673132392           45        45          45\n",
       "6  1673132393           45        45          45\n",
       "7  1673132394           45        45          45\n",
       "8  1673132395           45        45          45\n",
       "9  1673132396           45        45          45"
      ]
     },
     "execution_count": 6,
     "metadata": {},
     "output_type": "execute_result"
    }
   ],
   "source": [
    "import pandas as pd\n",
    "# retrieve values via pd library from local database\n",
    "pd.read_sql(\"SELECT * FROM sensor_values;\", conn)\n"
   ]
  },
  {
   "attachments": {},
   "cell_type": "markdown",
   "id": "7b118eef",
   "metadata": {},
   "source": []
  },
  {
   "cell_type": "code",
   "execution_count": 33,
   "id": "b4f50287",
   "metadata": {},
   "outputs": [
    {
     "name": "stdout",
     "output_type": "stream",
     "text": [
      "timestamp      1673132387\n",
      "temperature            45\n",
      "humidity               45\n",
      "brightness             45\n",
      "Name: 0, dtype: int64\n",
      "0:00:00\n",
      "timestamp      1673132388\n",
      "temperature            45\n",
      "humidity               45\n",
      "brightness             45\n",
      "Name: 1, dtype: int64\n",
      "0:00:01\n",
      "timestamp      1673132389\n",
      "temperature            45\n",
      "humidity               45\n",
      "brightness             45\n",
      "Name: 2, dtype: int64\n",
      "0:00:02\n",
      "timestamp      1673132390\n",
      "temperature            45\n",
      "humidity               45\n",
      "brightness             45\n",
      "Name: 3, dtype: int64\n",
      "0:00:03\n",
      "timestamp      1673132391\n",
      "temperature            45\n",
      "humidity               45\n",
      "brightness             45\n",
      "Name: 4, dtype: int64\n",
      "0:00:04\n",
      "timestamp      1673132392\n",
      "temperature            45\n",
      "humidity               45\n",
      "brightness             45\n",
      "Name: 5, dtype: int64\n",
      "0:00:05\n",
      "timestamp      1673132393\n",
      "temperature            45\n",
      "humidity               45\n",
      "brightness             45\n",
      "Name: 6, dtype: int64\n",
      "0:00:06\n",
      "timestamp      1673132394\n",
      "temperature            45\n",
      "humidity               45\n",
      "brightness             45\n",
      "Name: 7, dtype: int64\n",
      "0:00:07\n",
      "timestamp      1673132395\n",
      "temperature            45\n",
      "humidity               45\n",
      "brightness             45\n",
      "Name: 8, dtype: int64\n",
      "0:00:08\n",
      "timestamp      1673132396\n",
      "temperature            45\n",
      "humidity               45\n",
      "brightness             45\n",
      "Name: 9, dtype: int64\n",
      "0:00:09\n"
     ]
    },
    {
     "data": {
      "image/png": "[encoded data removed]",
      "text/plain": [
       "<Figure size 640x480 with 2 Axes>"
      ]
     },
     "metadata": {},
     "output_type": "display_data"
    }
   ],
   "source": [
    "import matplotlib.pyplot as plt\n",
    "import datetime\n",
    "plot_df=pd.read_sql(\"SELECT * FROM sensor_values;\", conn)\n",
    "\n",
    "timestamps=[]\n",
    "for i,row in plot_df.iterrows():\n",
    "   print(row)\n",
    "   first_time= plot_df.iloc[0]['timestamp']\n",
    "   second_time= plot_df.iloc[i]['timestamp']  \n",
    "   duration =  int(second_time - first_time)\n",
    "   calc_seconds=str(datetime.timedelta(seconds=duration))\n",
    "   print(calc_seconds)\n",
    "   timestamps.append(calc_seconds)\n",
    "\n",
    "\n",
    "# Create the chart\n",
    "fig, ax1 = plt.subplots()\n",
    "ax1.set_title('Temperature vs. Humidity')\n",
    "color = 'tab:red'\n",
    "ax1.set_xlabel('Unix Time (Minutes)')\n",
    "ax1.set_ylabel('Temperature', color=color)\n",
    "ax1.plot(timestamps,plot_df['temperature'], color=color)\n",
    "ax1.tick_params(axis='y', labelcolor=color) # changes style and color of y-axis label\n",
    "ax1.tick_params(axis='x', labelrotation=45)\n",
    "# Create another line for the Humidity\n",
    "\n",
    "ax2 = ax1.twinx()  # instantiate a second axes that shares the same x-axis\n",
    "\n",
    "color = 'tab:blue'\n",
    "ax2.set_ylabel('Humidity', color=color)  # we already handled the x-label with ax1\n",
    "ax2.plot(timestamps,plot_df['humidity'], color=color)\n",
    "ax2.tick_params(axis='y', labelcolor=color)\n",
    "\n",
    "fig.tight_layout()  # otherwise the right y-label is slightly clipped\n",
    "ax1.legend(['Temperature'], loc='upper left')\n",
    "ax2.legend(['Humidity'], loc='upper right')\n",
    "\n",
    "plt.show()\n"
   ]
  },
  {
   "cell_type": "code",
   "execution_count": 8,
   "id": "7aa1f014",
   "metadata": {},
   "outputs": [
    {
     "name": "stdout",
     "output_type": "stream",
     "text": [
      "Requirement already satisfied: openpyxl in c:\\users\\albert\\appdata\\local\\programs\\python\\python311\\lib\\site-packages (3.1.2)\n",
      "Requirement already satisfied: et-xmlfile in c:\\users\\albert\\appdata\\local\\programs\\python\\python311\\lib\\site-packages (from openpyxl) (1.1.0)\n",
      "Note: you may need to restart the kernel to use updated packages.\n"
     ]
    }
   ],
   "source": [
    "#Write to Excel Sheet\n",
    "%pip install openpyxl\n",
    "#import openpype.pipeline as pypeline  # pip install openpype.pipeline to install openpype.pipeline. For windows\n",
    "\n",
    "plot_df=pd.read_sql(\"SELECT * FROM sensor_values;\", conn)\n",
    "df=plot_df.to_excel('05b_plotting.xlsx')    "
   ]
  },
  {
   "attachments": {},
   "cell_type": "markdown",
   "id": "e88c1d6c",
   "metadata": {},
   "source": []
  }
 ],
 "metadata": {
  "kernelspec": {
   "display_name": "Python 3",
   "language": "python",
   "name": "python3"
  },
  "language_info": {
   "codemirror_mode": {
    "name": "ipython",
    "version": 3
   },
   "file_extension": ".py",
   "mimetype": "text/x-python",
   "name": "python",
   "nbconvert_exporter": "python",
   "pygments_lexer": "ipython3",
   "version": "3.11.2"
  }
 },
 "nbformat": 4,
 "nbformat_minor": 5
}
